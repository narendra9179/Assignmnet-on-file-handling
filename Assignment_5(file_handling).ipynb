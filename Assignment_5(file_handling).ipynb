{
  "nbformat": 4,
  "nbformat_minor": 0,
  "metadata": {
    "colab": {
      "provenance": []
    },
    "kernelspec": {
      "name": "python3",
      "display_name": "Python 3"
    },
    "language_info": {
      "name": "python"
    }
  },
  "cells": [
    {
      "cell_type": "markdown",
      "source": [
        "# Q:1 What is the difference between interpreted and compiled languages ?\n",
        "\n",
        "->\n",
        "\n",
        "Based on programme execution model the programming language has been dicided into two types:\n",
        "\n",
        "1) Interpreted Language : where the source code is translated to the machine understable code line by line.\n",
        "\n",
        "Example : Python\n",
        "\n",
        "2) Compiled Language : Here the source code is first compiled to machine understandable language and then executed.\n",
        "\n",
        "Example : c,c++\n",
        "\n",
        "Comparision :\n",
        "\n",
        "* Execution :\n",
        "\n",
        " Compiled Language translates entire code to machine code before execution.\n",
        "    \n",
        " Interpreted Language translates line-by-line during execution.\n",
        "\n",
        "* Speed :\n",
        "\n",
        "   In Compiled Language is Faster (after compilation)\n",
        "\n",
        "   In Interpreted Language is Slower (due to real-time interpretation)\n",
        "\n",
        "* Error handling :\n",
        "   \n",
        "   IN Compiled Language Errors found at compile-time.\n",
        "   \n",
        "   In Interpreted Language Errors found at runtime, line by line.\n",
        "\n",
        "* Output:\n",
        "\n",
        "   Compiled Language creates an independent executable\n",
        "   \n",
        "   Interpreted Language\t- No separate file runs through interpreter.\n"
      ],
      "metadata": {
        "id": "U6Fiw8ieTWyy"
      }
    },
    {
      "cell_type": "markdown",
      "source": [
        "# Q:2 What is exception handling in Python ?\n",
        "\n",
        "->\n",
        "\n",
        "Exception handling in Python is a way to manage errors gracefully so that the program doesn't crash when something goes wrong.\n",
        "\n",
        "It uses try, except, else, and finally blocks to catch and handle errors."
      ],
      "metadata": {
        "id": "oOEBlgfaTWvQ"
      }
    },
    {
      "cell_type": "markdown",
      "source": [
        "# Q:3 What is the purpose of the finally block in exception handling ?\n",
        "\n",
        "->\n",
        "\n",
        "The finally block in Python is used to define cleanup actions that must be executed no matter what — whether an exception occurs or not.\n"
      ],
      "metadata": {
        "id": "blBp_qWOTWtL"
      }
    },
    {
      "cell_type": "markdown",
      "source": [
        "# Q: 4 What is logging in Python?\n",
        "\n",
        "-> Logging in Python is used to record events. It helps track and fix errors. Python provides five logging levels based on severity: DEBUG, INFO, WARNING, ERROR, and CRITICAL. When you set a logging level, only messages at that level and higher are recorded.  \n"
      ],
      "metadata": {
        "id": "eZxgzCE8TWTS"
      }
    },
    {
      "cell_type": "markdown",
      "source": [
        "# Q:5 What is the significance of the __del__ method in Python ?\n",
        "\n",
        "->\n",
        "The __del__ method is a special method in Python known as a destructor.\n",
        "It is called automatically when an object is about to be destroyed or to clean up resources when an object is no longer needed like closing files, releasing network connections, or deleting temporary data."
      ],
      "metadata": {
        "id": "QprT_jB4TWP6"
      }
    },
    {
      "cell_type": "markdown",
      "source": [
        "# Q:6 What is the difference between import and from ... import in Python?\n",
        "\n",
        "-> In Python, \"import module\" loads the entire module, and you access functions with the module name prefix.\n",
        "\n",
        "\"from module import item\" lets you import specific functions or classes directly, so you can use them without the module prefix.."
      ],
      "metadata": {
        "id": "dD5ZzTapTWN6"
      }
    },
    {
      "cell_type": "markdown",
      "source": [
        "# Q:7 How can you handle multiple exceptions in Python ?\n",
        "\n",
        "->\n",
        "In Python, you can handle multiple exceptions using multiple except blocks, or by grouping exceptions in a single block.\n"
      ],
      "metadata": {
        "id": "co5nQBP8TWL-"
      }
    },
    {
      "cell_type": "code",
      "source": [
        "# Method 1: Multiple except blocks (Recommended when handling differently)\n",
        "\n",
        "try:\n",
        "    x = int(input(\"Enter a number: \"))\n",
        "    y = 10 / x\n",
        "except ValueError:\n",
        "    print(\"Invalid input! Please enter a number.\")\n",
        "except ZeroDivisionError:\n",
        "    print(\"You cannot divide by zero.\")\n",
        "\n",
        "\n",
        "# Method 2: One except block for multiple exceptions (Handle same way)\n",
        "\n",
        "try:\n",
        "    x = int(input(\"Enter a number: \"))\n",
        "    y = 10 / x\n",
        "except (ValueError, ZeroDivisionError):\n",
        "    print(\"Either invalid input or division by zero occurred.\")\n",
        "\n",
        "# This is useful for logging or debugging, but avoid using it too generally in production code, or you might hide bugs."
      ],
      "metadata": {
        "id": "DgT0SVoLjL21"
      },
      "execution_count": null,
      "outputs": []
    },
    {
      "cell_type": "markdown",
      "source": [
        "# Q:8 What is the purpose of the with statement when handling files in Python ?\n",
        "\n",
        "->\n",
        "\n",
        "\"with\" statement is very important for safe and clean file handling in Python.The with statement is used to open and automatically close files in Python.It uses context management and  ensures that the file is properly closed, even if an exception occurs during file operations."
      ],
      "metadata": {
        "id": "nqi8rG7ITWJw"
      }
    },
    {
      "cell_type": "markdown",
      "source": [
        "# Q:9 What is the difference between multithreading and multiprocessing ?\n",
        "\n",
        "->\n",
        "Both multithreading and multiprocessing are used to achieve concurrency (doing multiple tasks), but they work differently.\n",
        "\n",
        "1) Multithreading:\n",
        "\n",
        " * Uses multiple threads within one process.\n",
        "\n",
        " * Threads share the same memory space.\n",
        "\n",
        " * In Python, due to the GIL (Global Interpreter Lock), only one thread executes Python bytecode at a time, so threads run concurrently, not truly in parallel.\n",
        "\n",
        " * Best for I/O-bound tasks (like reading files, web scraping, etc.).\n",
        "\n",
        "Example Use Cases: Downloading files,Reading/writing files,Web scraping.\n",
        "\n",
        "2) Multiprocessing:\n",
        "\n",
        "* Uses multiple processes, each with its own memory space.\n",
        "\n",
        "* Python bypasses the GIL because each process has its own Python interpreter.\n",
        "\n",
        "* True parallel execution (perfect for CPU-bound tasks).\n",
        "\n",
        "* More memory-intensive, but more powerful for heavy computation.\n",
        "\n",
        "Example Use Cases: Image processing ,Data analysis ,Machine learning model training.\n",
        "\n",
        "\n",
        "\n"
      ],
      "metadata": {
        "id": "xrvIwJKTTWHk"
      }
    },
    {
      "cell_type": "markdown",
      "source": [
        "#Q: 10 What are the advantages of using logging in a program ?\n",
        "\n",
        "->\n",
        "\n",
        "Logging is used to track events that happen while a program runs. It helps with debugging, monitoring, and maintaining your code — especially in large or long-running applications.\n",
        "\n",
        "Key Advantages of Logging:\n",
        "\n",
        "* Debugging support\t:\n",
        "   \n",
        "   Helps you trace back errors and understand what went wrong and where.\n",
        "\n",
        "* No need for print() :\n",
        "   \n",
        "   print() is temporary and not flexible. Logging is persistent and configurable.\n",
        "\n",
        "* Log levels:\n",
        "   \n",
        "   You can categorize messages using levels: DEBUG, INFO, WARNING, ERROR, CRITICAL.\n",
        "\n",
        "* Saves logs to file:\n",
        "   \n",
        "   Can automatically write logs to files for review later — useful for production apps.\n",
        "\n",
        "* Better than exceptions:\n",
        "   \n",
        "   Exceptions stop programs. Logging records the error without stopping execution (if needed).\n",
        "\n",
        "* Helps in monitoring:\n",
        "\n",
        "   Used in real-time systems (e.g. servers) to monitor behavior and detect issues early.\n",
        "\n",
        "* Flexible formatting:\n",
        "   \n",
        "   You can add timestamps, line numbers, filenames, etc. in log messages.\n",
        "\n",
        "* Production ready:\n",
        "   \n",
        "   Used in real-world systems — easier to maintain, debug, and audit.\n",
        "\n"
      ],
      "metadata": {
        "id": "jnZbnITBTV8q"
      }
    },
    {
      "cell_type": "markdown",
      "source": [
        "# Q:11 What is memory management in Python ?\n",
        "\n",
        "->\n",
        "Memory management in Python is the automatic process of allocating, tracking, and freeing up memory for variables and data structures.\n",
        "It uses reference counting, a garbage collector, and a private heap to ensure that memory is used efficiently without requiring manual deallocation."
      ],
      "metadata": {
        "id": "B0-t94HINw20"
      }
    },
    {
      "cell_type": "markdown",
      "source": [
        "# Q:12 What are the basic steps involved in exception handling in Python ?\n",
        "\n",
        "->\n",
        "\n",
        "Exception handling is the process of responding to errors in a controlled way so the program doesn't crash unexpectedly.\n",
        "\n",
        "Steps in Exception Handling in Python:\n",
        "\n",
        "1) try block :\tWrite the code that might cause an error inside the try block.\n",
        "\n",
        "2) except block:\tWrite code to handle the error if it occurs.\n",
        "\n",
        "3)else block (optional):\tExecutes only if no exception occurs in the try block.\n",
        "\n",
        "4) finally block (optional):\tExecutes no matter what, whether an exception happened or not — used for cleanup (like closing a file or connection)."
      ],
      "metadata": {
        "id": "jkMkILKGNwus"
      }
    },
    {
      "cell_type": "markdown",
      "source": [
        "# Q:13 Why is memory management important in Python?\n",
        "\n",
        "->\n",
        "\n",
        "Memory management is crucial because it ensures that your Python program uses memory efficiently, safely, and without leaking or crashing.\n",
        "\n",
        "Advantanges of memorry management :\n",
        "\n",
        "* Prevents memory leaks:\tWithout proper memory cleanup, unused objects may stay in memory and slow down or crash your program.\n",
        "\n",
        "* Improves performance:\tEfficient memory use makes your program run faster and handle more data.\n",
        "\n",
        "* Ensures program stability: Avoids crashes caused by memory overflow or exhaustion.\n",
        "\n",
        "* Supports large applications:\tCrucial for long-running systems like servers, web apps, or data pipelines.\n",
        "\n",
        "* Reduces programmer burden:\tPython's automatic garbage collection frees you from manually managing memory, reducing bugs.\n",
        "\n",
        "* Enables scalability:\tProper memory usage lets your program handle growing tasks smoothly.\n",
        "\n"
      ],
      "metadata": {
        "id": "x10IeQGqNwob"
      }
    },
    {
      "cell_type": "markdown",
      "source": [
        "# Q:14 What is the role of try and except in exception handling?\n",
        "\n",
        "->\n",
        "In Python, the try and except blocks are used to handle errors, so your program doesn't crash when something goes wrong.\n",
        "\n",
        "try Block — \"Try to run this code\"\n",
        "You place code that might cause an error inside the try block.\n",
        "\n",
        "If no error occurs, the program continues normally.\n",
        "\n",
        "If an error occurs, Python jumps to the except block.\n",
        "\n",
        "except Block — \"If there's an error, do this instead\"\n",
        "This block catches the error and lets you define how to respond (like printing a message or doing something else).\n",
        "\n",
        "Prevents the program from crashing.\n",
        "\n",
        "They work together to ensure your program keeps running safely, even when unexpected errors happen."
      ],
      "metadata": {
        "id": "qBCm_N4BNwik"
      }
    },
    {
      "cell_type": "markdown",
      "source": [
        "# Q:15 How does Python's garbage collection system work ?\n",
        "\n",
        "->\n",
        "\n",
        "Python's garbage collection (GC) is a two-part system that automatically reclaims memory you no longer need:\n",
        "\n",
        "1)Reference Counting (Immediate Cleanup):\n",
        "Every object in Python has an internal reference count (the number of live references to it).\n",
        "\n",
        "When you do:\n",
        "a = [1,2,3]\n",
        "b = a\n",
        "the list's reference count goes from 1 to 2.\n",
        "\n",
        "When you delete a reference:\n",
        "\n",
        "del a\n",
        "the count drops back to 1.\n",
        "\n",
        "When the count reaches zero, the object is destroyed immediately and its memory is freed.\n",
        "\n",
        "2) Generational Garbage Collector (Cycle Detection):\n",
        "Reference counting can't reclaim objects that reference each other in a cycle (A→B→A). To handle these, Python uses a generational GC:\n",
        "\n",
        "\n",
        "0\tNewly created objects go here\n",
        "1\tSurvivors of Generation 0 collection\n",
        "2\tSurvivors of Generation 1 (the “oldest”)\n",
        "\n",
        "Periodically (when the number of allocations minus deallocations exceeds a threshold), Python runs a collection on Generation 0.\n",
        "\n",
        "If many objects survive, it will collect Generation 1, then Generation 2.\n",
        "\n",
        "During collection, it looks for objects unreachable from program roots (even if their refcounts > 0 due to cycles), breaks those cycles, and frees them.\n",
        "\n",
        "\n",
        "Reference counting is deterministic: objects are freed as soon as they’re no longer referenced.\n",
        "\n",
        "Generational GC handles cycles, but runs periodically, not instantly.\n",
        "\n",
        "\n",
        " Python first uses reference counting to immediately free unreferenced objects, then runs a generational cycle detector to catch and collect reference‐cycle garbage. This hybrid approach gives both prompt cleanup and the ability to reclaim cyclic structures automatically."
      ],
      "metadata": {
        "id": "jUq6vj4iNwcT"
      }
    },
    {
      "cell_type": "markdown",
      "source": [
        "# Q:16 What is the purpose of the else block in exception handling?\n",
        "\n",
        "->\n",
        "\n",
        "In Python's exception-handling, the else block sits between try and finally (if you use all four) and serves a very specific purpose:\n",
        "\n",
        "1)Runs only if no exception occurred:\n",
        "Any code you put in the else block will execute only when the try block succeeds without raising an exception.\n",
        "\n",
        "2)Keeps “happy-path” logic separate:\n",
        "It's a way to clearly distinguish the code that should run when everything goes right (in else) from the code that handles errors (in except).\n",
        "\n",
        "3)Avoids accidentally catching bugs:\n",
        "By putting post-try logic in else, you ensure that errors in that logic won't be caught by your except clauses meant for the try block.\n",
        "\n",
        "When to use else:\n",
        "\n",
        "You have some code in try that might fail.\n",
        "\n",
        "You want subsequent code to run only on success, not under error conditions.\n",
        "\n",
        "You want to keep error-handling (except) and post-success logic (else) clearly separated for readability and correctness.\n",
        "\n",
        "\n",
        "Use else to house the “normal” continuation of your code—what should happen only if the risky operation in try didn't crash."
      ],
      "metadata": {
        "id": "ewB_tFDHNwUt"
      }
    },
    {
      "cell_type": "markdown",
      "source": [
        "# Q:17 What are the common logging levels in Python ?\n",
        "\n",
        "->\n",
        "\n",
        "Python's built-in logging module defines a hierarchy of standard log levels, each indicating increasing severity:\n",
        "\n",
        "Levels-\n",
        "\n",
        "DEBUG:\n",
        "\n",
        "  Detailed diagnostic information, typically of interest only when diagnosing problems.\n",
        "\n",
        "INFO: Confirmation that things are working as expected.\n",
        "\n",
        "WARNING:\n",
        "\n",
        "  An indication that something unexpected happened, or indicative of some problem in the near future (e.g., ‘disk space low’). The software is still working as expected.\n",
        "\n",
        "ERROR:\n",
        "\n",
        " A more serious problem—software has not been able to perform some function.\n",
        "\n",
        "CRITICAL:\n",
        "\n",
        " A very serious error, indicating that the program itself may be unable to continue running.\n"
      ],
      "metadata": {
        "id": "BFTb1519NwMk"
      }
    },
    {
      "cell_type": "markdown",
      "source": [
        "# Q: 18  What is the difference between os.fork() and multiprocessing in Python?\n",
        "\n",
        "\n",
        "->\n",
        "\n",
        "When you need to run code in separate processes in Python, you have two main approaches: using the low-level POSIX call os.fork() or the higher-level multiprocessing module. Here’s how they differ:\n",
        "\n",
        "* Platform:\n",
        "  \n",
        "  os.fork() support\tPOSIX-only (Unix, Linux, macOS). Not available on Windows.\n",
        "  \n",
        "  multiprocessing supports Cross-platform (works on Windows, Linux, macOS).\n",
        "\n",
        "* API level:\n",
        "\n",
        "  os.fork()- very low-level: directly duplicates the current process. You must manually manage IPC (pipes, shared memory), reinitialize resources, etc.\n",
        "  \n",
        "  Multiprocessing-\thigh-level: provides Process, Pool, Queue, Manager, etc., with built-in synchronization and communication primitives.\n",
        "\n",
        "* Memory sharing:\n",
        "  \n",
        "   os.fork()-After fork, parent and child share the same memory pages via copy-on-write. Changes in one process don’t affect the other unless explicitly using shared memory or mmap.\n",
        "   \n",
        "   Multiprocessing- Each Process by default has its own memory space; data is passed via pickling through queues or shared objects (Value, Array, managers).\n",
        "\n",
        "* Safety & initialization:\n",
        "   \n",
        "   os.fork()-Forking a multithreaded Python process can be unsafe—only the calling thread is cloned, and locks or thread states may get corrupted.\n",
        "   \n",
        "   Multiprocessing- Uses spawn (or forkserver on POSIX) start methods to safely create fresh interpreter processes; avoids issues with inherited threads or locks.\n",
        "\n",
        "* Ease of use:\n",
        "   \n",
        "   os.fork()-You need to call os.fork(), check return values (0 in child, PID in parent), then os.exec*() if you want to run new code—lots of boilerplate.\n",
        "   \n",
        "   Multiprocessing- Simply instantiate multiprocessing.Process(target=…) or use a Pool.map() call. Workers start cleanly, and you can .join() them.\n",
        "\n",
        "* Resource cleanup:\n",
        "   \n",
        "   os.fork() -You must manually os.waitpid() to reap zombie children.\n",
        "\n",
        "   Multiprocessing- Processes are cleaned up when .join() is called; Pool can be closed and joined automatically (especially when used in a with block).\n",
        "\n",
        "When to use which?\n",
        "os.fork()\n",
        "– When you need maximum control over process creation on Unix and are comfortable managing low-level details (e.g., in a simple C-inspired daemon).\n",
        "– Not recommended for complex Python applications, especially if they’re multithreaded.\n",
        "\n",
        "multiprocessing\n",
        "– When you want a portable, easy-to-use API that handles process lifecycle, inter-process communication, and safe initialization for you.\n",
        "– Ideal for CPU-bound parallelism in Python programs.\n",
        "\n",
        "In most Python applications, multiprocessing is the preferred, safer, and more maintainable choice."
      ],
      "metadata": {
        "id": "Sr495KqlNwGL"
      }
    },
    {
      "cell_type": "markdown",
      "source": [
        "# Q: 19 What is the importance of closing a file in Python?\n",
        "\n",
        "->\n",
        "Closing a file in Python is important for several reasons:\n",
        "\n",
        "* Flushes Data to Disk:\n",
        "\n",
        "   When you write to a file, Python buffers the output in memory for efficiency. Calling .close() (or exiting a with block) forces those buffers to be flushed, ensuring all your data is actually written to disk rather than sitting in memory.\n",
        "\n",
        "* Releases System Resources:\n",
        "\n",
        "  Every open file consumes an operating‑system file descriptor (a limited resource). If you leave files open, you risk running out of file descriptors, which can prevent you from opening new files or sockets.\n",
        "\n",
        "* Prevents Data Corruption:\n",
        "\n",
        "  If a program crashes or exits without closing files, you may end up with partial writes or corrupted files, because buffered data never made it to disk or metadata (like file size and timestamps) wasn't properly updated.\n",
        "\n",
        "* Avoids Locking Issues:\n",
        "\n",
        "  On some operating systems or when using network or database file systems, an open file may be locked and inaccessible to other processes. Closing the file releases those locks, allowing others to read or write.\n",
        "\n",
        "* Good Practice & Predictability\n",
        "\n",
        "  Explicitly closing files (or using with open(...) as f:) makes your code’s resource management clear and deterministic, reducing the chance of subtle bugs in longer‑running applications.\n",
        "\n",
        "By always closing files (ideally via with), you keep your programs robust, efficient, and safe."
      ],
      "metadata": {
        "id": "hNT4h6AANv7P"
      }
    },
    {
      "cell_type": "markdown",
      "source": [
        "# Q:20 What is the difference between file.read() and file.readline() in Python?\n",
        "\n",
        "->\n",
        "\n",
        "file.read() and file.readline in python are methods used in file handling where file.read() reads the etire file in one go on the contrast file.readline() reads the file line by line.\n",
        "\n",
        "\n",
        "Comprarission:\n",
        "\n",
        "file.read(size=-1):\tReads up to size characters (or bytes) from the file. If size is omitted or negative, it reads the entire remainder of the file in one go and gives a single string containing all the data read.\n",
        "\n",
        "file.readline(size=-1):\tReads a single line from the file, up to and including the next newline ('\\n'). If size is given, reads at most that many characters and gives a string containing the next line (including the newline), or an empty string ('') at end-of-file.\n",
        "\n",
        "\n",
        "When to Use Which?\n",
        "read()\n",
        "– Good when you need the whole file in memory at once (e.g., small config files).\n",
        "– Be cautious with very large files to avoid high memory usage.\n",
        "\n",
        "readline()\n",
        "– Ideal for processing files line by line (e.g., logs, streaming data).\n",
        "– Keeps memory use low, since you only hold one line at a time."
      ],
      "metadata": {
        "id": "uuY-nlgkNvxj"
      }
    },
    {
      "cell_type": "markdown",
      "source": [
        "# Practicle Questions"
      ],
      "metadata": {
        "id": "ztFZqVyele1j"
      }
    },
    {
      "cell_type": "markdown",
      "source": [
        "# Q:1 How can you open a file for writing in Python and write a string to it ?"
      ],
      "metadata": {
        "id": "ai9OvMcYlibP"
      }
    },
    {
      "cell_type": "code",
      "source": [
        "# Ans\n",
        "\n",
        "string = \"hy my name is narendra\"\n",
        "\n",
        "with open('stringfile.txt', 'w') as f:\n",
        "    f.write(string)\n"
      ],
      "metadata": {
        "id": "OgVRK5DulQbf"
      },
      "execution_count": null,
      "outputs": []
    },
    {
      "cell_type": "markdown",
      "source": [
        "# Q:2 Write a Python program to read the contents of a file and print each line."
      ],
      "metadata": {
        "id": "kCo9spYznVwP"
      }
    },
    {
      "cell_type": "code",
      "source": [
        "# Ans\n",
        "\n",
        "with open('stringfile.txt', 'r') as f:\n",
        "    line = f.readline()\n",
        "    print(line, end='')  # print first line\n",
        "\n",
        "    for line in f:\n",
        "        print(line, end='')  # now print rest"
      ],
      "metadata": {
        "id": "VoxjN2uklaiF"
      },
      "execution_count": null,
      "outputs": []
    },
    {
      "cell_type": "markdown",
      "source": [
        "# Q:3= How would you handle a case where the file doesn't exist while trying to open it for reading."
      ],
      "metadata": {
        "id": "gmaktEIIrXsu"
      }
    },
    {
      "cell_type": "code",
      "source": [
        "# Ans\n",
        "\n",
        "try:\n",
        "    with open('stringfile.txt', 'r') as f:\n",
        "        line = f.readline()\n",
        "        print(line, end='')\n",
        "\n",
        "        for line in f:\n",
        "            print(line, end='')\n",
        "except FileNotFoundError as e:\n",
        "    print(\"The file does not exist. Please check the filename or path.\")"
      ],
      "metadata": {
        "colab": {
          "base_uri": "https://localhost:8080/"
        },
        "id": "kYPQkQCOrfT7",
        "outputId": "dedb3c10-1378-497d-c9cb-fda453697874"
      },
      "execution_count": null,
      "outputs": [
        {
          "output_type": "stream",
          "name": "stdout",
          "text": [
            "The file does not exist. Please check the filename or path.\n"
          ]
        }
      ]
    },
    {
      "cell_type": "markdown",
      "source": [
        "# Q:4 Write a Python script that reads from one file and writes its content to another file."
      ],
      "metadata": {
        "id": "0kBn7Wuxsd1u"
      }
    },
    {
      "cell_type": "code",
      "source": [
        "# Ans\n",
        "\n",
        "\n",
        "\n",
        "with open('stringfile.txt', 'r') as f:\n",
        "    content=f.read()\n",
        "\n",
        "with open(\"file2.txt\",'w') as f1:\n",
        "    data=f1.write(content)\n",
        "    print(data)\n"
      ],
      "metadata": {
        "id": "xiS6-e5elaew"
      },
      "execution_count": null,
      "outputs": []
    },
    {
      "cell_type": "markdown",
      "source": [
        "# Q:5 How would you catch and handle division by zero error in Python."
      ],
      "metadata": {
        "id": "6f7ESS8rybVO"
      }
    },
    {
      "cell_type": "code",
      "source": [
        "# Ans\n",
        "\n",
        "try:\n",
        "    a = int(input('Numerator: '))\n",
        "    b = int(input('Denominator: '))\n",
        "    c = a / b\n",
        "    print(\"Result:\", c)\n",
        "except ZeroDivisionError:\n",
        "    print(\"Error: Denominator cannot be zero.\")\n",
        "\n",
        ""
      ],
      "metadata": {
        "id": "pvJixKCNlaTu"
      },
      "execution_count": null,
      "outputs": []
    },
    {
      "cell_type": "markdown",
      "source": [
        "# Q:6 Write a Python program that logs an error message to a log file when a division by zero exception occurs."
      ],
      "metadata": {
        "id": "4vYfSwcBeFOG"
      }
    },
    {
      "cell_type": "code",
      "source": [
        "#Ans\n",
        "\n",
        "import logging\n",
        "\n",
        "# Set up logging configuration (done once, before the try block)\n",
        "logging.basicConfig(filename='error.log', level=logging.ERROR,format='%(asctime)s - %(levelname)s - %(message)s')\n",
        "\n",
        "try:\n",
        "    a = int(input('Numerator: '))\n",
        "    b = int(input('Denominator: '))\n",
        "    c = a / b\n",
        "    print(\"Result:\", c)\n",
        "\n",
        "except ZeroDivisionError:\n",
        "    print(\"Error: Denominator cannot be zero.\")\n",
        "    logging.error(\"ZeroDivisionError: Denominator entered was zero. Numerator=%d\", a)\n",
        "\n",
        "\n",
        "\n"
      ],
      "metadata": {
        "id": "2kd3IHWoldNK"
      },
      "execution_count": null,
      "outputs": []
    },
    {
      "cell_type": "markdown",
      "source": [
        "# Q:7 How do you log information at different levels (INFO, ERROR, WARNING) in Python using the logging module."
      ],
      "metadata": {
        "id": "QAtA3w2uiKCd"
      }
    },
    {
      "cell_type": "code",
      "source": [
        "import logging\n",
        "\n",
        "logging.basicConfig(\n",
        "    filename='app.log',\n",
        "    level=logging.DEBUG,\n",
        "    format='%(asctime)s - %(levelname)s - %(message)s'  # Log format\n",
        ")\n",
        "\n",
        "logging.debug(\"This is a DEBUG message: useful for developers.\")\n",
        "logging.info(\"This is an INFO message: general program information.\")\n",
        "logging.warning(\"This is a WARNING message: something unexpected happened.\")\n",
        "logging.error(\"This is an ERROR message: a serious problem occurred.\")\n",
        "logging.critical(\"This is a CRITICAL message: severe error, program may crash.\")"
      ],
      "metadata": {
        "id": "-t0jgs3bldCO"
      },
      "execution_count": null,
      "outputs": []
    },
    {
      "cell_type": "markdown",
      "source": [
        "# Q:8 Write a program to handle a file opening error using exception handling."
      ],
      "metadata": {
        "id": "NoidcFomlICy"
      }
    },
    {
      "cell_type": "code",
      "source": [
        "# Ans\n",
        "\n",
        "try:\n",
        "    with open('fil.txt', 'r') as f:\n",
        "        data = f.read()\n",
        "        print(data)\n",
        "\n",
        "except FileNotFoundError as e:\n",
        "    print(\"ERROR: FileNotFound\")\n",
        "\n",
        "except PermissionError:\n",
        "    print(\"Error: You do not have permission to read the file.\")\n",
        "\n",
        "except Exception as e:\n",
        "    print(f\"An unexpected error occurred: {e}\")\n"
      ],
      "metadata": {
        "id": "AEEfPRWqlc8T",
        "colab": {
          "base_uri": "https://localhost:8080/"
        },
        "outputId": "8f7389b5-85f3-477b-8658-8177aa460f95"
      },
      "execution_count": 1,
      "outputs": [
        {
          "output_type": "stream",
          "name": "stdout",
          "text": [
            "ERROR: FileNotFound\n"
          ]
        }
      ]
    },
    {
      "cell_type": "markdown",
      "source": [
        "#Q:9 How can you read a file line by line and store its content in a list in Python."
      ],
      "metadata": {
        "id": "fImtdhaPmSoa"
      }
    },
    {
      "cell_type": "code",
      "source": [
        "# Ans\n",
        "\n",
        "with open('filename.txt', 'r') as file:\n",
        "    content = file.readlines()\n",
        "\n",
        "print(lines)"
      ],
      "metadata": {
        "id": "-tFrk3HLlc1r"
      },
      "execution_count": null,
      "outputs": []
    },
    {
      "cell_type": "markdown",
      "source": [
        "#Q:10 How can you append data to an existing file in Python."
      ],
      "metadata": {
        "id": "IoAr7JuBnC9b"
      }
    },
    {
      "cell_type": "code",
      "source": [
        "# Ans\n",
        "\n",
        "with open('filename.txt', 'a') as file:\n",
        "    file.write('add this to the existing file')\n",
        "\n",
        "print(lines)"
      ],
      "metadata": {
        "id": "3OHAd66hlclk"
      },
      "execution_count": null,
      "outputs": []
    },
    {
      "cell_type": "markdown",
      "source": [
        "#Q:11 Write a Python program that uses a try-except block to handle an error when attempting to access a dictionary key that doesn't exist."
      ],
      "metadata": {
        "id": "JsjyIEhusaK-"
      }
    },
    {
      "cell_type": "code",
      "source": [
        "# Ans\n",
        "\n",
        "\n",
        "student_scores = {\n",
        "    \"ram\": 85,\n",
        "    \"shyam\": 92,\n",
        "    \"radhe\": 78\n",
        "}\n",
        "\n",
        "try:\n",
        "    name = input(\"Enter the student's name: \")\n",
        "    score = student_scores[name]  # May raise KeyError if name not in dict\n",
        "    print(f\"{name}'s score is {score}\")\n",
        "\n",
        "except KeyError:\n",
        "    print(f\"Error: No score found for '{name}'. Please check the name.\")"
      ],
      "metadata": {
        "id": "CKqposJ4uA7E"
      },
      "execution_count": null,
      "outputs": []
    },
    {
      "cell_type": "markdown",
      "source": [
        "#Q:12 Write a program that demonstrates using multiple except blocks to handle different types of exceptions."
      ],
      "metadata": {
        "id": "iBbWnkUuthtE"
      }
    },
    {
      "cell_type": "code",
      "source": [
        "# Ans\n",
        "\n",
        "try:\n",
        "    num1 = int(input(\"Enter the numerator: \"))\n",
        "    num2 = int(input(\"Enter the denominator: \"))\n",
        "    result = num1 / num2\n",
        "    print(\"Result:\", result)\n",
        "\n",
        "\n",
        "except ZeroDivisionError:\n",
        "    print(\"Error: You cannot divide by zero.\")\n",
        "\n",
        "except ValueError:\n",
        "    print(\"Error: Invalid input. Please enter numeric values only.\")\n",
        "\n",
        "except Exception as e:\n",
        "    print(f\"An unexpected error occurred: {e}\")\n"
      ],
      "metadata": {
        "id": "JMwwuEumlcUp"
      },
      "execution_count": null,
      "outputs": []
    },
    {
      "cell_type": "markdown",
      "source": [
        "#Q: 13 How would you check if a file exists before attempting to read it in Python."
      ],
      "metadata": {
        "id": "M6rCwCUwubC4"
      }
    },
    {
      "cell_type": "code",
      "source": [
        "# Ans\n",
        "\n",
        "import os\n",
        "\n",
        "filename = 'data.txt'\n",
        "\n",
        "if os.path.exists(filename):\n",
        "    with open(filename, 'r') as file:\n",
        "        content = file.read()\n",
        "        print(content)\n",
        "else:\n",
        "    print(f\"Error: File '{filename}' does not exist.\")"
      ],
      "metadata": {
        "id": "Hpv_Et_MlaJ5"
      },
      "execution_count": null,
      "outputs": []
    },
    {
      "cell_type": "markdown",
      "source": [
        "#Q:14 Write a program that uses the logging module to log both informational and error messages."
      ],
      "metadata": {
        "id": "Eqk1lhiFu7Av"
      }
    },
    {
      "cell_type": "code",
      "source": [
        "# Ans\n",
        "\n",
        "import logging\n",
        "\n",
        "logging.basicConfig(\n",
        "    filename='app.log',\n",
        "    level=logging.DEBUG,\n",
        "    format='%(asctime)s - %(levelname)s - %(message)s'\n",
        ")\n",
        "\n",
        "# Example\n",
        "def divide_numbers(a, b):\n",
        "    logging.info(f\"Attempting to divide {a} by {b}\")\n",
        "    try:\n",
        "        result = a / b\n",
        "        logging.info(f\"Division successful: result = {result}\")\n",
        "        return result\n",
        "    except ZeroDivisionError:\n",
        "        logging.error(\"Division by zero error occurred.\")\n",
        "        return None\n",
        "\n",
        "# Run example\n",
        "num1 = 10\n",
        "num2 = 0\n",
        "\n",
        "output = divide_numbers(num1, num2)\n",
        "\n",
        "if output is None:\n",
        "    print(\"Failed to perform division. See log for details.\")\n",
        "else:\n",
        "    print(\"Division result:\", output)"
      ],
      "metadata": {
        "id": "Mo4Oigu_laDF",
        "colab": {
          "base_uri": "https://localhost:8080/"
        },
        "outputId": "71ac028e-f08d-412b-9ef7-825754ad4244"
      },
      "execution_count": 3,
      "outputs": [
        {
          "output_type": "stream",
          "name": "stderr",
          "text": [
            "ERROR:root:Division by zero error occurred.\n"
          ]
        },
        {
          "output_type": "stream",
          "name": "stdout",
          "text": [
            "Failed to perform division. See log for details.\n"
          ]
        }
      ]
    },
    {
      "cell_type": "markdown",
      "source": [
        "#Q:15 Write a Python program that prints the content of a file and handles the case when the file is empty."
      ],
      "metadata": {
        "id": "SyNJ5Ahhv7D8"
      }
    },
    {
      "cell_type": "code",
      "source": [
        "# Ans\n",
        "\n",
        "try:\n",
        "    with open('data.txt', 'r') as file:\n",
        "        content = file.read()\n",
        "\n",
        "        if content.strip() == \"\":\n",
        "            print(\"The file is empty.\")\n",
        "        else:\n",
        "            print(\"File content:\")\n",
        "            print(content)\n",
        "\n",
        "\n",
        "except FileNotFoundError:\n",
        "    print(\"Error: The file 'data.txt' does not exist.\")\n",
        "\n",
        "except Exception as e:\n",
        "    print(f\"An unexpected error occurred: {e}\")"
      ],
      "metadata": {
        "id": "lOiTJPS0lZ9X"
      },
      "execution_count": null,
      "outputs": []
    },
    {
      "cell_type": "markdown",
      "source": [
        "#Q:16 Demonstrate how to use memory profiling to check the memory usage of a small program."
      ],
      "metadata": {
        "id": "FULqXKzcx6-Z"
      }
    },
    {
      "cell_type": "code",
      "source": [
        "# Ans\n",
        "\n",
        "pip install memory-profiler\n",
        "\n",
        "# memory_example.py\n",
        "\n",
        "from memory_profiler import profile\n",
        "\n",
        "@profile\n",
        "def create_large_list():\n",
        "    data = [x * 2 for x in range(1000000)]  # Creates a list of 1 million elements\n",
        "    return data\n",
        "\n",
        "if __name__ == \"__main__\":\n",
        "    create_large_list()\n",
        "\n",
        "python -m memory_profiler memory_example.py"
      ],
      "metadata": {
        "id": "pE8x2AoblZ3G"
      },
      "execution_count": null,
      "outputs": []
    },
    {
      "cell_type": "markdown",
      "source": [
        "# Q:17 Write a Python program to create and write a list of numbers to a file, one number per line."
      ],
      "metadata": {
        "id": "SEarF2ATzdDT"
      }
    },
    {
      "cell_type": "code",
      "source": [
        "# Ans\n",
        "\n",
        "numbers = [10, 20, 30, 40, 50]\n",
        "\n",
        "\n",
        "with open('numbers.txt', 'w') as file:\n",
        "    for num in numbers:\n",
        "        file.write(f\"{num}\\n\")  # Write each number on a new line\n",
        "\n",
        "print(\"Numbers have been written to 'numbers.txt'.\")\n"
      ],
      "metadata": {
        "id": "donzdf6llZwF",
        "colab": {
          "base_uri": "https://localhost:8080/"
        },
        "outputId": "039b9a4e-e48f-4c5e-f84e-d79d7dc0c144"
      },
      "execution_count": 5,
      "outputs": [
        {
          "output_type": "stream",
          "name": "stdout",
          "text": [
            "Numbers have been written to 'numbers.txt'.\n"
          ]
        }
      ]
    },
    {
      "cell_type": "markdown",
      "source": [
        "#Q:18 How would you implement a basic logging setup that logs to a file with rotation after 1MB."
      ],
      "metadata": {
        "id": "THRGf8V70GKo"
      }
    },
    {
      "cell_type": "code",
      "source": [
        "# Ans\n",
        "\n",
        "import logging\n",
        "from logging.handlers import RotatingFileHandler\n",
        "\n",
        "# Set up RotatingFileHandler\n",
        "log_handler = RotatingFileHandler(\n",
        "    filename='app.log',       # Log file name\n",
        "    maxBytes=1_000_000,       # Rotate after 1MB (1,000,000 bytes)\n",
        "    backupCount=3             # Keep up to 3 old log files: app.log.1, app.log.2, app.log.3\n",
        ")\n",
        "\n",
        "# Set log format\n",
        "formatter = logging.Formatter('%(asctime)s - %(levelname)s - %(message)s')\n",
        "log_handler.setFormatter(formatter)\n",
        "\n",
        "# Configure logging\n",
        "logger = logging.getLogger()\n",
        "logger.setLevel(logging.INFO)         # Set logging level\n",
        "logger.addHandler(log_handler)        # Add the rotating handler\n",
        "\n",
        "# Example log messages\n",
        "for i in range(10000):\n",
        "    logger.info(f\"This is log message number {i}\")\n"
      ],
      "metadata": {
        "id": "87Kd1jmVlZnt"
      },
      "execution_count": null,
      "outputs": []
    },
    {
      "cell_type": "markdown",
      "source": [
        "#Q:19 Write a program that handles both IndexError and KeyError using a try-except block."
      ],
      "metadata": {
        "id": "sOi9Noza10VU"
      }
    },
    {
      "cell_type": "code",
      "source": [
        "# Ans\n",
        "\n",
        "try:\n",
        "\n",
        "    my_list = [10, 20, 30]\n",
        "    my_dict = {'a': 1, 'b': 2}\n",
        "\n",
        "\n",
        "    print(\"List element at index 5:\", my_list[5])\n",
        "\n",
        "\n",
        "    print(\"Value for key 'z':\", my_dict['z'])\n",
        "\n",
        "except IndexError:\n",
        "    print(\"IndexError: List index is out of range.\")\n",
        "\n",
        "except KeyError:\n",
        "    print(\"KeyError: The specified key does not exist in the dictionary.\")\n"
      ],
      "metadata": {
        "id": "-Hjl-oiKlZeX",
        "colab": {
          "base_uri": "https://localhost:8080/"
        },
        "outputId": "bbbb0089-1bef-484c-a0b9-01075e31b1e0"
      },
      "execution_count": 6,
      "outputs": [
        {
          "output_type": "stream",
          "name": "stdout",
          "text": [
            "IndexError: List index is out of range.\n"
          ]
        }
      ]
    },
    {
      "cell_type": "markdown",
      "source": [
        "#Q:20 How would you open a file and read its contents using a context manager in Python."
      ],
      "metadata": {
        "id": "gtIuT4Pu2Ox_"
      }
    },
    {
      "cell_type": "code",
      "source": [
        "# Ans\n",
        "\n",
        "with open('example.txt', 'r') as file:\n",
        "    content = file.read()\n",
        "    print(content)"
      ],
      "metadata": {
        "id": "BFPnlwh5lZWh"
      },
      "execution_count": null,
      "outputs": []
    },
    {
      "cell_type": "markdown",
      "source": [
        "#Q:21 Write a Python program that reads a file and prints the number of occurrences of a specific word."
      ],
      "metadata": {
        "id": "pRN06XLP2jvg"
      }
    },
    {
      "cell_type": "code",
      "source": [
        "# Ans\n",
        "\n",
        "word_to_search = input(\"Enter the word to search: \").lower()\n",
        "\n",
        "with open('sample.txt', 'r') as file:\n",
        "        content = file.read().lower()\n",
        "\n",
        "        words = content.split()\n",
        "\n",
        "        count = words.count(word_to_search)\n",
        "\n",
        "        print(f\"The word '{word_to_search}' occurred {count} time(s) in the file.\")\n"
      ],
      "metadata": {
        "id": "u51J4IwslZLW"
      },
      "execution_count": null,
      "outputs": []
    },
    {
      "cell_type": "markdown",
      "source": [
        "#Q:22 How can you check if a file is empty before attempting to read its contents."
      ],
      "metadata": {
        "id": "fA0cLYlP3YCO"
      }
    },
    {
      "cell_type": "code",
      "source": [
        "# Ans\n",
        "\n",
        "with open('sample.txt', 'r') as file:\n",
        "    content = file.read()\n",
        "    if content.strip() == \"\":\n",
        "        print(\"The file is empty.\")\n",
        "    else:\n",
        "        print(\"File content:\")\n",
        "        print(content)"
      ],
      "metadata": {
        "id": "N8V5k0vY3d1M"
      },
      "execution_count": null,
      "outputs": []
    },
    {
      "cell_type": "markdown",
      "source": [
        "#Q:23 Write a Python program that writes to a log file when an error occurs during file handling."
      ],
      "metadata": {
        "id": "Lvjol-km3rwJ"
      }
    },
    {
      "cell_type": "code",
      "source": [
        "# Ans\n",
        "\n",
        "import logging\n",
        "\n",
        "logging.basicConfig(\n",
        "    filename='file_errors.log',\n",
        "    level=logging.ERROR,\n",
        "    format='%(asctime)s - %(levelname)s - %(message)s'\n",
        ")\n",
        "\n",
        "try:\n",
        "\n",
        "    with open('nonexistent_file.txt', 'r') as file:\n",
        "        data = file.read()\n",
        "        print(data)\n",
        "\n",
        "except FileNotFoundError as e:\n",
        "    print(\"Error: File not found.\")\n",
        "    logging.error(\"FileNotFoundError: %s\", e)\n",
        "\n",
        "except Exception as e:\n",
        "    print(\"An unexpected error occurred.\")\n",
        "    logging.error(\"Unexpected error: %s\", e)"
      ],
      "metadata": {
        "id": "yT59NSZZ3vcP"
      },
      "execution_count": null,
      "outputs": []
    }
  ]
}